{
 "cells": [
  {
   "cell_type": "code",
   "execution_count": null,
   "metadata": {},
   "outputs": [],
   "source": [
    "import numpy as np\n",
    "import matplotlib.pyplot as plt\n",
    "import os\n",
    "import tensorflow as tf\n",
    "import pandas as pd\n",
    "from sklearn import preprocessing"
   ]
  },
  {
   "cell_type": "code",
   "execution_count": null,
   "metadata": {},
   "outputs": [],
   "source": [
    "DATADIR = \"Datasets\"\n",
    "UK = \"UK/input.txt\""
   ]
  },
  {
   "cell_type": "code",
   "execution_count": null,
   "metadata": {
    "scrolled": true
   },
   "outputs": [],
   "source": [
    "datapath = os.path.join(DATADIR , UK)\n",
    "print (datapath)\n",
    "descrpath = os.path.join(DATADIR, \"UK/explanation.csv\")"
   ]
  },
  {
   "cell_type": "code",
   "execution_count": null,
   "metadata": {},
   "outputs": [],
   "source": [
    "descr = pd.read_csv(descrpath)\n",
    "print(descr)\n",
    "\n",
    "data = pd.read_csv(datapath, header = None, skipinitialspace = True, sep = \" \", names = descr['Name'])"
   ]
  },
  {
   "cell_type": "code",
   "execution_count": null,
   "metadata": {
    "scrolled": true
   },
   "outputs": [],
   "source": [
    "data.head(30)"
   ]
  },
  {
   "cell_type": "code",
   "execution_count": null,
   "metadata": {
    "scrolled": true
   },
   "outputs": [],
   "source": [
    "%matplotlib inline\n",
    "data.hist(bins = 50, figsize =(20,15))"
   ]
  },
  {
   "cell_type": "code",
   "execution_count": null,
   "metadata": {},
   "outputs": [],
   "source": [
    "corr_matrix = data.corr()\n",
    "corr_matrix[\"Censor\"].sort_values(ascending=False)"
   ]
  },
  {
   "cell_type": "code",
   "execution_count": null,
   "metadata": {
    "scrolled": false
   },
   "outputs": [],
   "source": [
    "data.isnull().values.any() #no missing values"
   ]
  },
  {
   "cell_type": "code",
   "execution_count": null,
   "metadata": {},
   "outputs": [],
   "source": [
    "#separate labels and identify column type\n",
    "cs_data= data.drop(\"Censor\", axis =1)\n",
    "cs_labels = data[\"Censor\"].copy()\n",
    "cs_cat = cs_data[[\"Custgend\",\"Freqpaid\",\"Homephon\",\"Loantype\",\"Marstat\",\"Homeowns\",\"Purpose\",\"Censore\"]]\n",
    "cs_numerical = cs_data.drop(columns =cs_cat)\n",
    "\n",
    "#numerical pipeline\n",
    "from sklearn.pipeline import Pipeline\n",
    "from sklearn.impute import SimpleImputer\n",
    "from sklearn.preprocessing import StandardScaler\n",
    "\n",
    "\n",
    "num_pipeline = Pipeline([\n",
    "    ('imputer', SimpleImputer(strategy = \"median\")),\n",
    "    ('mm_scaler', StandardScaler()),\n",
    "])\n",
    "\n",
    "#full pipeline\n",
    "from sklearn.compose import ColumnTransformer\n",
    "from sklearn.preprocessing import OneHotEncoder\n",
    "\n",
    "num_attribs = list(cs_numerical)\n",
    "cat_attribs = list(cs_cat)\n",
    "\n",
    "full_pipeline = ColumnTransformer([\n",
    "             (\"num\", num_pipeline, num_attribs),\n",
    "             (\"cat\", OneHotEncoder(categories=\"auto\"), cat_attribs)\n",
    "        ])\n",
    "\n",
    "#transform all data\n",
    "cs_prepared = full_pipeline.fit_transform(cs_data)\n",
    "cs_prepared.shape\n",
    "\n",
    "#split data into train and test sets\n",
    "from sklearn.model_selection import train_test_split\n",
    "train_set, test_set, train_set_labels, test_set_labels = train_test_split(cs_prepared, cs_labels, test_size =0.2)\n",
    "print train_set[0]\n",
    "print train_set_labels[0]"
   ]
  },
  {
   "cell_type": "code",
   "execution_count": null,
   "metadata": {
    "scrolled": false
   },
   "outputs": [],
   "source": [
    "#Logistic Regression\n",
    "from sklearn.linear_model import LogisticRegressionCV\n",
    "\n",
    "y = train_set_labels.astype(np.int)\n",
    "X= train_set\n",
    "\n",
    "log_reg = LogisticRegressionCV(solver = 'lbfgs', max_iter=1000, cv=5)\n",
    "log_reg.fit(X,y)\n",
    "log_reg.predict(X)\n",
    "log_reg.predict_proba(X)\n",
    "log_reg.score(X,y)"
   ]
  },
  {
   "cell_type": "code",
   "execution_count": null,
   "metadata": {
    "scrolled": true
   },
   "outputs": [],
   "source": [
    "yt = test_set_labels.astype(np.int)\n",
    "Xt = test_set\n",
    "\n",
    "log_reg.score(Xt,yt)"
   ]
  },
  {
   "cell_type": "code",
   "execution_count": null,
   "metadata": {
    "scrolled": true
   },
   "outputs": [],
   "source": [
    "#Gradient Boosting\n",
    "from sklearn.ensemble import GradientBoostingRegressor\n",
    "from sklearn.metrics import accuracy_score\n",
    "gbrt = GradientBoostingRegressor(max_depth=3, n_estimators = 10, learning_rate=1)\n",
    "gbrt.fit(X, y)\n",
    "gbrt.score(X,y)"
   ]
  },
  {
   "cell_type": "code",
   "execution_count": null,
   "metadata": {},
   "outputs": [],
   "source": [
    "gbrt.fit(Xt, yt)\n",
    "gbrt.score(Xt,yt)"
   ]
  },
  {
   "cell_type": "code",
   "execution_count": null,
   "metadata": {},
   "outputs": [],
   "source": [
    "#split transformed data into train and test sets\n",
    "from sklearn.model_selection import cross_val_score\n",
    "scores = cross_val_score(log_reg, cs_prepared, cs_labels, cv=10)\n",
    "print(scores)"
   ]
  },
  {
   "cell_type": "code",
   "execution_count": null,
   "metadata": {},
   "outputs": [],
   "source": []
  }
 ],
 "metadata": {
  "kernelspec": {
   "display_name": "Python 2",
   "language": "python",
   "name": "python2"
  },
  "language_info": {
   "codemirror_mode": {
    "name": "ipython",
    "version": 2
   },
   "file_extension": ".py",
   "mimetype": "text/x-python",
   "name": "python",
   "nbconvert_exporter": "python",
   "pygments_lexer": "ipython2",
   "version": "2.7.16"
  }
 },
 "nbformat": 4,
 "nbformat_minor": 2
}
