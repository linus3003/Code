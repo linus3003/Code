{
 "cells": [
  {
   "cell_type": "code",
   "execution_count": 136,
   "metadata": {},
   "outputs": [],
   "source": [
    "import numpy as np\n",
    "import matplotlib.pyplot as plt\n",
    "import os\n",
    "import tensorflow as tf\n",
    "import pandas as pd\n",
    "from sklearn import preprocessing"
   ]
  },
  {
   "cell_type": "code",
   "execution_count": 68,
   "metadata": {},
   "outputs": [],
   "source": [
    "DATADIR = \"/Users/linusmohr/Desktop/MasterThesis/CSData/\"\n",
    "UK = \"UK/input.txt\""
   ]
  },
  {
   "cell_type": "code",
   "execution_count": 69,
   "metadata": {},
   "outputs": [
    {
     "name": "stdout",
     "output_type": "stream",
     "text": [
      "/Users/linusmohr/Desktop/MasterThesis/CSData/UK/input.txt\n"
     ]
    }
   ],
   "source": [
    "datapath = os.path.join(DATADIR , UK)\n",
    "print (datapath)\n",
    "descrpath = os.path.join(DATADIR, \"UK/explanation.csv\")"
   ]
  },
  {
   "cell_type": "code",
   "execution_count": 72,
   "metadata": {},
   "outputs": [],
   "source": [
    "CATEGORICAL_FEATURE_KEYS = [\n",
    "   \n",
    "    'Custgend',\n",
    "    'Freqpaid',\n",
    "    'Homephon',\n",
    "    'Loantype',\n",
    "    'Marstat',\n",
    "    'Homeowns',\n",
    "    'Purpose',\n",
    "]\n",
    "\n",
    "NUMERIC_FEATURE_KEYS =[\n",
    "    'Open',\n",
    "    'Age',\n",
    "    'Amount',\n",
    "    'Curradd',\n",
    "    'Curremp',\n",
    "    'Depchild',\n",
    "    'Insprem',\n",
    "    'Term',\n",
    "    \n",
    "] \n",
    "BINARY_FEATURE_KEYS =[\n",
    "    \n",
    "    'Censore',\n",
    "]\n",
    "\n",
    "LABEL_KEY = [\n",
    "    \n",
    "    'Censor',\n",
    "\n",
    "]\n",
    "\n"
   ]
  },
  {
   "cell_type": "code",
   "execution_count": 133,
   "metadata": {},
   "outputs": [],
   "source": [
    "\n",
    "descr = pd.read_csv(descrpath)\n",
    "\n",
    "data = pd.read_csv(datapath, header = None, skipinitialspace = True, sep = \" \", descr['Name'])\n"
   ]
  },
  {
   "cell_type": "code",
   "execution_count": 134,
   "metadata": {
    "scrolled": false
   },
   "outputs": [
    {
     "data": {
      "text/html": [
       "<div>\n",
       "<style scoped>\n",
       "    .dataframe tbody tr th:only-of-type {\n",
       "        vertical-align: middle;\n",
       "    }\n",
       "\n",
       "    .dataframe tbody tr th {\n",
       "        vertical-align: top;\n",
       "    }\n",
       "\n",
       "    .dataframe thead th {\n",
       "        text-align: right;\n",
       "    }\n",
       "</style>\n",
       "<table border=\"1\" class=\"dataframe\">\n",
       "  <thead>\n",
       "    <tr style=\"text-align: right;\">\n",
       "      <th></th>\n",
       "      <th>Censor</th>\n",
       "      <th>Censore</th>\n",
       "      <th>Open</th>\n",
       "      <th>Age</th>\n",
       "      <th>Amount</th>\n",
       "      <th>Curradd</th>\n",
       "      <th>Curremp</th>\n",
       "      <th>Custgend</th>\n",
       "      <th>Depchild</th>\n",
       "      <th>Freqpaid</th>\n",
       "      <th>Homephon</th>\n",
       "      <th>Insprem</th>\n",
       "      <th>Loantype</th>\n",
       "      <th>Marstat</th>\n",
       "      <th>Term</th>\n",
       "      <th>Homeowns</th>\n",
       "      <th>Purpose</th>\n",
       "    </tr>\n",
       "  </thead>\n",
       "  <tbody>\n",
       "    <tr>\n",
       "      <td>0</td>\n",
       "      <td>0.0</td>\n",
       "      <td>1.0</td>\n",
       "      <td>11.0</td>\n",
       "      <td>20.0</td>\n",
       "      <td>3000.0</td>\n",
       "      <td>0.3</td>\n",
       "      <td>0.5</td>\n",
       "      <td>2.0</td>\n",
       "      <td>0.0</td>\n",
       "      <td>1.0</td>\n",
       "      <td>1.0</td>\n",
       "      <td>410.0</td>\n",
       "      <td>1.0</td>\n",
       "      <td>1.0</td>\n",
       "      <td>36.0</td>\n",
       "      <td>2.0</td>\n",
       "      <td>17.0</td>\n",
       "    </tr>\n",
       "    <tr>\n",
       "      <td>1</td>\n",
       "      <td>0.0</td>\n",
       "      <td>0.0</td>\n",
       "      <td>19.0</td>\n",
       "      <td>27.0</td>\n",
       "      <td>4000.0</td>\n",
       "      <td>1.5</td>\n",
       "      <td>7.2</td>\n",
       "      <td>2.0</td>\n",
       "      <td>0.0</td>\n",
       "      <td>3.0</td>\n",
       "      <td>1.0</td>\n",
       "      <td>0.0</td>\n",
       "      <td>2.0</td>\n",
       "      <td>2.0</td>\n",
       "      <td>36.0</td>\n",
       "      <td>2.0</td>\n",
       "      <td>7.0</td>\n",
       "    </tr>\n",
       "    <tr>\n",
       "      <td>2</td>\n",
       "      <td>0.0</td>\n",
       "      <td>0.0</td>\n",
       "      <td>11.0</td>\n",
       "      <td>32.0</td>\n",
       "      <td>500.0</td>\n",
       "      <td>4.0</td>\n",
       "      <td>32.5</td>\n",
       "      <td>1.0</td>\n",
       "      <td>0.0</td>\n",
       "      <td>1.0</td>\n",
       "      <td>1.0</td>\n",
       "      <td>45.0</td>\n",
       "      <td>1.0</td>\n",
       "      <td>3.0</td>\n",
       "      <td>12.0</td>\n",
       "      <td>2.0</td>\n",
       "      <td>21.0</td>\n",
       "    </tr>\n",
       "    <tr>\n",
       "      <td>3</td>\n",
       "      <td>0.0</td>\n",
       "      <td>1.0</td>\n",
       "      <td>10.0</td>\n",
       "      <td>19.0</td>\n",
       "      <td>1000.0</td>\n",
       "      <td>19.7</td>\n",
       "      <td>1.9</td>\n",
       "      <td>2.0</td>\n",
       "      <td>0.0</td>\n",
       "      <td>1.0</td>\n",
       "      <td>1.0</td>\n",
       "      <td>90.0</td>\n",
       "      <td>1.0</td>\n",
       "      <td>1.0</td>\n",
       "      <td>12.0</td>\n",
       "      <td>2.0</td>\n",
       "      <td>17.0</td>\n",
       "    </tr>\n",
       "    <tr>\n",
       "      <td>4</td>\n",
       "      <td>0.0</td>\n",
       "      <td>0.0</td>\n",
       "      <td>12.0</td>\n",
       "      <td>34.0</td>\n",
       "      <td>1200.0</td>\n",
       "      <td>2.8</td>\n",
       "      <td>4.3</td>\n",
       "      <td>1.0</td>\n",
       "      <td>1.0</td>\n",
       "      <td>3.0</td>\n",
       "      <td>1.0</td>\n",
       "      <td>0.0</td>\n",
       "      <td>1.0</td>\n",
       "      <td>2.0</td>\n",
       "      <td>12.0</td>\n",
       "      <td>1.0</td>\n",
       "      <td>26.0</td>\n",
       "    </tr>\n",
       "  </tbody>\n",
       "</table>\n",
       "</div>"
      ],
      "text/plain": [
       "   Censor  Censore  Open   Age  Amount  Curradd  Curremp  Custgend  Depchild  \\\n",
       "0     0.0      1.0  11.0  20.0  3000.0      0.3      0.5       2.0       0.0   \n",
       "1     0.0      0.0  19.0  27.0  4000.0      1.5      7.2       2.0       0.0   \n",
       "2     0.0      0.0  11.0  32.0   500.0      4.0     32.5       1.0       0.0   \n",
       "3     0.0      1.0  10.0  19.0  1000.0     19.7      1.9       2.0       0.0   \n",
       "4     0.0      0.0  12.0  34.0  1200.0      2.8      4.3       1.0       1.0   \n",
       "\n",
       "   Freqpaid  Homephon  Insprem  Loantype  Marstat  Term  Homeowns  Purpose  \n",
       "0       1.0       1.0    410.0       1.0      1.0  36.0       2.0     17.0  \n",
       "1       3.0       1.0      0.0       2.0      2.0  36.0       2.0      7.0  \n",
       "2       1.0       1.0     45.0       1.0      3.0  12.0       2.0     21.0  \n",
       "3       1.0       1.0     90.0       1.0      1.0  12.0       2.0     17.0  \n",
       "4       3.0       1.0      0.0       1.0      2.0  12.0       1.0     26.0  "
      ]
     },
     "execution_count": 134,
     "metadata": {},
     "output_type": "execute_result"
    }
   ],
   "source": [
    "data.head()\n",
    "\n"
   ]
  },
  {
   "cell_type": "code",
   "execution_count": 137,
   "metadata": {},
   "outputs": [
    {
     "name": "stdout",
     "output_type": "stream",
     "text": [
      "    Nr      Name         Type\n",
      "0    1    Censor          0/1\n",
      "1    2   Censore          0/1\n",
      "2    3      Open   Continuous\n",
      "3    4       Age   Continuous\n",
      "4    5    Amount   Continuous\n",
      "5    6   Curradd   Continuous\n",
      "6    7   Curremp   Continuous\n",
      "7    8  Custgend  Categorical\n",
      "8    9  Depchild   Continuous\n",
      "9   10  Freqpaid  Categorical\n",
      "10  11  Homephon  Categorical\n",
      "11  12   Insprem   Continuous\n",
      "12  13  Loantype  Categorical\n",
      "13  14   Marstat  Categorical\n",
      "14  15      Term   Continuous\n",
      "15  16  Homeowns  Categorical\n",
      "16  17   Purpose  Categorical\n"
     ]
    }
   ],
   "source": [
    "print(descr)"
   ]
  },
  {
   "cell_type": "code",
   "execution_count": 138,
   "metadata": {},
   "outputs": [
    {
     "ename": "NameError",
     "evalue": "name 'shape' is not defined",
     "output_type": "error",
     "traceback": [
      "\u001b[0;31m---------------------------------------------------------------------------\u001b[0m",
      "\u001b[0;31mNameError\u001b[0m                                 Traceback (most recent call last)",
      "\u001b[0;32m<ipython-input-138-5f2fcec6bfd7>\u001b[0m in \u001b[0;36m<module>\u001b[0;34m\u001b[0m\n\u001b[0;32m----> 1\u001b[0;31m \u001b[0mshape\u001b[0m\u001b[0;34m(\u001b[0m\u001b[0mdescr\u001b[0m\u001b[0;34m)\u001b[0m\u001b[0;34m\u001b[0m\u001b[0;34m\u001b[0m\u001b[0m\n\u001b[0m",
      "\u001b[0;31mNameError\u001b[0m: name 'shape' is not defined"
     ]
    }
   ],
   "source": [
    "shape(descr)"
   ]
  },
  {
   "cell_type": "code",
   "execution_count": 139,
   "metadata": {},
   "outputs": [
    {
     "data": {
      "text/plain": [
       "(17, 3)"
      ]
     },
     "execution_count": 139,
     "metadata": {},
     "output_type": "execute_result"
    }
   ],
   "source": [
    "descr.shape"
   ]
  },
  {
   "cell_type": "code",
   "execution_count": 143,
   "metadata": {},
   "outputs": [],
   "source": [
    "\n",
    "s_scaler = preprocessing.StandardScaler()\n",
    "\n",
    "datascaled = s_scaler.fit_transform(data[['Open','Age','Amount','Curradd','Curremp','Depchild','Insprem','Term',]])\n"
   ]
  },
  {
   "cell_type": "code",
   "execution_count": 146,
   "metadata": {},
   "outputs": [
    {
     "data": {
      "text/plain": [
       "array([[-0.60540097, -1.43807873,  0.61381481, -0.96539151, -0.94540457,\n",
       "        -0.58442337,  1.69063107,  1.42792219],\n",
       "       [ 0.4142074 , -0.80642029,  1.24126837, -0.82156422, -0.03782572,\n",
       "        -0.58442337, -0.65035033,  1.42792219],\n",
       "       [-0.60540097, -0.35523569, -0.95481909, -0.52192405,  3.38930039,\n",
       "        -0.58442337, -0.39341334, -1.07863363],\n",
       "       [-0.73285201, -1.52831565, -0.64109231,  1.35981626, -0.75576123,\n",
       "        -0.58442337, -0.13647636, -1.07863363],\n",
       "       [-0.47794992, -0.17476184, -0.5156016 , -0.66575133, -0.43065836,\n",
       "         0.26465896, -0.65035033, -1.07863363],\n",
       "       [-1.2426562 ,  1.26902889, -0.64109231, -0.68972255, -0.60675575,\n",
       "        -0.58442337, -0.13647636, -1.07863363],\n",
       "       [ 2.45342414, -0.44547261,  1.24126837, -0.88149226, -0.75576123,\n",
       "        -0.58442337, -0.65035033,  1.42792219],\n",
       "       [-1.49755829, -0.71618337, -0.95481909, -1.00134833,  0.24663929,\n",
       "         0.26465896, -0.65035033, -1.07863363],\n",
       "       [-0.22304783,  0.9080812 ,  0.61381481, -0.6058233 , -0.49838812,\n",
       "         1.96282362, -0.65035033,  1.42792219],\n",
       "       [ 1.05146263,  1.44950273,  1.86872193,  0.20919798, -0.76930718,\n",
       "         1.11374129, -0.65035033,  1.42792219]])"
      ]
     },
     "execution_count": 146,
     "metadata": {},
     "output_type": "execute_result"
    }
   ],
   "source": [
    "datascaled[:10]\n"
   ]
  },
  {
   "cell_type": "code",
   "execution_count": null,
   "metadata": {},
   "outputs": [],
   "source": []
  }
 ],
 "metadata": {
  "kernelspec": {
   "display_name": "Python 3",
   "language": "python",
   "name": "python3"
  },
  "language_info": {
   "codemirror_mode": {
    "name": "ipython",
    "version": 3
   },
   "file_extension": ".py",
   "mimetype": "text/x-python",
   "name": "python",
   "nbconvert_exporter": "python",
   "pygments_lexer": "ipython3",
   "version": "3.7.3"
  }
 },
 "nbformat": 4,
 "nbformat_minor": 2
}
