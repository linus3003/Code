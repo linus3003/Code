{
 "cells": [
  {
   "cell_type": "code",
   "execution_count": 1,
   "metadata": {},
   "outputs": [
    {
     "ename": "ImportError",
     "evalue": "No module named tensorflow",
     "output_type": "error",
     "traceback": [
      "\u001b[0;31m----------------------------------------------------------------------\u001b[0m",
      "\u001b[0;31mImportError\u001b[0m                          Traceback (most recent call last)",
      "\u001b[0;32m<ipython-input-1-64f84665e137>\u001b[0m in \u001b[0;36m<module>\u001b[0;34m()\u001b[0m\n\u001b[1;32m      2\u001b[0m \u001b[0;32mimport\u001b[0m \u001b[0mmatplotlib\u001b[0m\u001b[0;34m.\u001b[0m\u001b[0mpyplot\u001b[0m \u001b[0;32mas\u001b[0m \u001b[0mplt\u001b[0m\u001b[0;34m\u001b[0m\u001b[0m\n\u001b[1;32m      3\u001b[0m \u001b[0;32mimport\u001b[0m \u001b[0mos\u001b[0m\u001b[0;34m\u001b[0m\u001b[0m\n\u001b[0;32m----> 4\u001b[0;31m \u001b[0;32mimport\u001b[0m \u001b[0mtensorflow\u001b[0m \u001b[0;32mas\u001b[0m \u001b[0mtf\u001b[0m\u001b[0;34m\u001b[0m\u001b[0m\n\u001b[0m\u001b[1;32m      5\u001b[0m \u001b[0;32mimport\u001b[0m \u001b[0mpandas\u001b[0m \u001b[0;32mas\u001b[0m \u001b[0mpd\u001b[0m\u001b[0;34m\u001b[0m\u001b[0m\n\u001b[1;32m      6\u001b[0m \u001b[0;32mfrom\u001b[0m \u001b[0msklearn\u001b[0m \u001b[0;32mimport\u001b[0m \u001b[0mpreprocessing\u001b[0m\u001b[0;34m\u001b[0m\u001b[0m\n",
      "\u001b[0;31mImportError\u001b[0m: No module named tensorflow"
     ]
    }
   ],
   "source": [
    "import numpy as np\n",
    "import matplotlib.pyplot as plt\n",
    "import os\n",
    "import tensorflow as tf\n",
    "import pandas as pd\n",
    "from sklearn import preprocessing"
   ]
  },
  {
   "cell_type": "code",
   "execution_count": 3,
   "metadata": {},
   "outputs": [],
   "source": [
    "DATADIR = \"/Users/linusmohr/Desktop/MasterThesis/CSData/\"\n",
    "UK = \"UK/input.txt\""
   ]
  },
  {
   "cell_type": "code",
   "execution_count": 4,
   "metadata": {},
   "outputs": [
    {
     "name": "stdout",
     "output_type": "stream",
     "text": [
      "/Users/linusmohr/Desktop/MasterThesis/CSData/UK/input.txt\n"
     ]
    }
   ],
   "source": [
    "datapath = os.path.join(DATADIR , UK)\n",
    "print (datapath)\n",
    "descrpath = os.path.join(DATADIR, \"UK/explanation.csv\")"
   ]
  },
  {
   "cell_type": "code",
   "execution_count": 6,
   "metadata": {},
   "outputs": [
    {
     "name": "stdout",
     "output_type": "stream",
     "text": [
      "    Nr      Name         Type\n",
      "0    1    Censor          0/1\n",
      "1    2   Censore          0/1\n",
      "2    3      Open   Continuous\n",
      "3    4       Age   Continuous\n",
      "4    5    Amount   Continuous\n",
      "5    6   Curradd   Continuous\n",
      "6    7   Curremp   Continuous\n",
      "7    8  Custgend  Categorical\n",
      "8    9  Depchild   Continuous\n",
      "9   10  Freqpaid  Categorical\n",
      "10  11  Homephon  Categorical\n",
      "11  12   Insprem   Continuous\n",
      "12  13  Loantype  Categorical\n",
      "13  14   Marstat  Categorical\n",
      "14  15      Term   Continuous\n",
      "15  16  Homeowns  Categorical\n",
      "16  17   Purpose  Categorical\n"
     ]
    }
   ],
   "source": [
    "\n",
    "descr = pd.read_csv(descrpath)\n",
    "print(descr)\n",
    "\n",
    "data = pd.read_csv(datapath, header = None, skipinitialspace = True, sep = \" \", names = descr['Name'])\n"
   ]
  },
  {
   "cell_type": "code",
   "execution_count": 8,
   "metadata": {},
   "outputs": [
    {
     "data": {
      "text/html": [
       "<div>\n",
       "<style scoped>\n",
       "    .dataframe tbody tr th:only-of-type {\n",
       "        vertical-align: middle;\n",
       "    }\n",
       "\n",
       "    .dataframe tbody tr th {\n",
       "        vertical-align: top;\n",
       "    }\n",
       "\n",
       "    .dataframe thead th {\n",
       "        text-align: right;\n",
       "    }\n",
       "</style>\n",
       "<table border=\"1\" class=\"dataframe\">\n",
       "  <thead>\n",
       "    <tr style=\"text-align: right;\">\n",
       "      <th></th>\n",
       "      <th>Censor</th>\n",
       "      <th>Censore</th>\n",
       "      <th>Open</th>\n",
       "      <th>Age</th>\n",
       "      <th>Amount</th>\n",
       "      <th>Curradd</th>\n",
       "      <th>Curremp</th>\n",
       "      <th>Custgend</th>\n",
       "      <th>Depchild</th>\n",
       "      <th>Freqpaid</th>\n",
       "      <th>Homephon</th>\n",
       "      <th>Insprem</th>\n",
       "      <th>Loantype</th>\n",
       "      <th>Marstat</th>\n",
       "      <th>Term</th>\n",
       "      <th>Homeowns</th>\n",
       "      <th>Purpose</th>\n",
       "    </tr>\n",
       "  </thead>\n",
       "  <tbody>\n",
       "    <tr>\n",
       "      <td>0</td>\n",
       "      <td>0.0</td>\n",
       "      <td>1.0</td>\n",
       "      <td>11.0</td>\n",
       "      <td>20.0</td>\n",
       "      <td>3000.0</td>\n",
       "      <td>0.3</td>\n",
       "      <td>0.5</td>\n",
       "      <td>2.0</td>\n",
       "      <td>0.0</td>\n",
       "      <td>1.0</td>\n",
       "      <td>1.0</td>\n",
       "      <td>410.0</td>\n",
       "      <td>1.0</td>\n",
       "      <td>1.0</td>\n",
       "      <td>36.0</td>\n",
       "      <td>2.0</td>\n",
       "      <td>17.0</td>\n",
       "    </tr>\n",
       "    <tr>\n",
       "      <td>1</td>\n",
       "      <td>0.0</td>\n",
       "      <td>0.0</td>\n",
       "      <td>19.0</td>\n",
       "      <td>27.0</td>\n",
       "      <td>4000.0</td>\n",
       "      <td>1.5</td>\n",
       "      <td>7.2</td>\n",
       "      <td>2.0</td>\n",
       "      <td>0.0</td>\n",
       "      <td>3.0</td>\n",
       "      <td>1.0</td>\n",
       "      <td>0.0</td>\n",
       "      <td>2.0</td>\n",
       "      <td>2.0</td>\n",
       "      <td>36.0</td>\n",
       "      <td>2.0</td>\n",
       "      <td>7.0</td>\n",
       "    </tr>\n",
       "    <tr>\n",
       "      <td>2</td>\n",
       "      <td>0.0</td>\n",
       "      <td>0.0</td>\n",
       "      <td>11.0</td>\n",
       "      <td>32.0</td>\n",
       "      <td>500.0</td>\n",
       "      <td>4.0</td>\n",
       "      <td>32.5</td>\n",
       "      <td>1.0</td>\n",
       "      <td>0.0</td>\n",
       "      <td>1.0</td>\n",
       "      <td>1.0</td>\n",
       "      <td>45.0</td>\n",
       "      <td>1.0</td>\n",
       "      <td>3.0</td>\n",
       "      <td>12.0</td>\n",
       "      <td>2.0</td>\n",
       "      <td>21.0</td>\n",
       "    </tr>\n",
       "    <tr>\n",
       "      <td>3</td>\n",
       "      <td>0.0</td>\n",
       "      <td>1.0</td>\n",
       "      <td>10.0</td>\n",
       "      <td>19.0</td>\n",
       "      <td>1000.0</td>\n",
       "      <td>19.7</td>\n",
       "      <td>1.9</td>\n",
       "      <td>2.0</td>\n",
       "      <td>0.0</td>\n",
       "      <td>1.0</td>\n",
       "      <td>1.0</td>\n",
       "      <td>90.0</td>\n",
       "      <td>1.0</td>\n",
       "      <td>1.0</td>\n",
       "      <td>12.0</td>\n",
       "      <td>2.0</td>\n",
       "      <td>17.0</td>\n",
       "    </tr>\n",
       "    <tr>\n",
       "      <td>4</td>\n",
       "      <td>0.0</td>\n",
       "      <td>0.0</td>\n",
       "      <td>12.0</td>\n",
       "      <td>34.0</td>\n",
       "      <td>1200.0</td>\n",
       "      <td>2.8</td>\n",
       "      <td>4.3</td>\n",
       "      <td>1.0</td>\n",
       "      <td>1.0</td>\n",
       "      <td>3.0</td>\n",
       "      <td>1.0</td>\n",
       "      <td>0.0</td>\n",
       "      <td>1.0</td>\n",
       "      <td>2.0</td>\n",
       "      <td>12.0</td>\n",
       "      <td>1.0</td>\n",
       "      <td>26.0</td>\n",
       "    </tr>\n",
       "  </tbody>\n",
       "</table>\n",
       "</div>"
      ],
      "text/plain": [
       "   Censor  Censore  Open   Age  Amount  Curradd  Curremp  Custgend  Depchild  \\\n",
       "0     0.0      1.0  11.0  20.0  3000.0      0.3      0.5       2.0       0.0   \n",
       "1     0.0      0.0  19.0  27.0  4000.0      1.5      7.2       2.0       0.0   \n",
       "2     0.0      0.0  11.0  32.0   500.0      4.0     32.5       1.0       0.0   \n",
       "3     0.0      1.0  10.0  19.0  1000.0     19.7      1.9       2.0       0.0   \n",
       "4     0.0      0.0  12.0  34.0  1200.0      2.8      4.3       1.0       1.0   \n",
       "\n",
       "   Freqpaid  Homephon  Insprem  Loantype  Marstat  Term  Homeowns  Purpose  \n",
       "0       1.0       1.0    410.0       1.0      1.0  36.0       2.0     17.0  \n",
       "1       3.0       1.0      0.0       2.0      2.0  36.0       2.0      7.0  \n",
       "2       1.0       1.0     45.0       1.0      3.0  12.0       2.0     21.0  \n",
       "3       1.0       1.0     90.0       1.0      1.0  12.0       2.0     17.0  \n",
       "4       3.0       1.0      0.0       1.0      2.0  12.0       1.0     26.0  "
      ]
     },
     "execution_count": 8,
     "metadata": {},
     "output_type": "execute_result"
    }
   ],
   "source": [
    "data.head()"
   ]
  },
  {
   "cell_type": "code",
   "execution_count": 9,
   "metadata": {},
   "outputs": [
    {
     "data": {
      "text/plain": [
       "array([[<matplotlib.axes._subplots.AxesSubplot object at 0xa44850490>,\n",
       "        <matplotlib.axes._subplots.AxesSubplot object at 0x1a4574d9d0>,\n",
       "        <matplotlib.axes._subplots.AxesSubplot object at 0x10ddb4d10>,\n",
       "        <matplotlib.axes._subplots.AxesSubplot object at 0x10ddea9d0>],\n",
       "       [<matplotlib.axes._subplots.AxesSubplot object at 0x10de29d50>,\n",
       "        <matplotlib.axes._subplots.AxesSubplot object at 0x10de5fa10>,\n",
       "        <matplotlib.axes._subplots.AxesSubplot object at 0x10de9ee90>,\n",
       "        <matplotlib.axes._subplots.AxesSubplot object at 0x1a4576da50>],\n",
       "       [<matplotlib.axes._subplots.AxesSubplot object at 0x1a457775d0>,\n",
       "        <matplotlib.axes._subplots.AxesSubplot object at 0x1a457abf50>,\n",
       "        <matplotlib.axes._subplots.AxesSubplot object at 0x1a4581ee10>,\n",
       "        <matplotlib.axes._subplots.AxesSubplot object at 0x1a45855ad0>],\n",
       "       [<matplotlib.axes._subplots.AxesSubplot object at 0x1a45b57e50>,\n",
       "        <matplotlib.axes._subplots.AxesSubplot object at 0x1a45b8eb10>,\n",
       "        <matplotlib.axes._subplots.AxesSubplot object at 0x1a45bcce90>,\n",
       "        <matplotlib.axes._subplots.AxesSubplot object at 0x1a45c04b50>],\n",
       "       [<matplotlib.axes._subplots.AxesSubplot object at 0x1a45c41ed0>,\n",
       "        <matplotlib.axes._subplots.AxesSubplot object at 0x1a45c76b90>,\n",
       "        <matplotlib.axes._subplots.AxesSubplot object at 0x1a45cb6f10>,\n",
       "        <matplotlib.axes._subplots.AxesSubplot object at 0x1a45cebbd0>]],\n",
       "      dtype=object)"
      ]
     },
     "execution_count": 9,
     "metadata": {},
     "output_type": "execute_result"
    },
    {
     "data": {
      "image/png": "[encoded data removed]",
      "text/plain": [
       "<Figure size 1440x1080 with 20 Axes>"
      ]
     },
     "metadata": {
      "needs_background": "light"
     },
     "output_type": "display_data"
    }
   ],
   "source": [
    "%matplotlib inline\n",
    "data.hist(bins = 50, figsize =(20,15))"
   ]
  },
  {
   "cell_type": "code",
   "execution_count": 10,
   "metadata": {},
   "outputs": [
    {
     "data": {
      "text/plain": [
       "Censor      1.000000\n",
       "Insprem     0.085074\n",
       "Homeowns    0.055573\n",
       "Purpose     0.053157\n",
       "Term        0.050892\n",
       "Amount      0.021433\n",
       "Homephon    0.016299\n",
       "Custgend    0.014178\n",
       "Depchild    0.002606\n",
       "Loantype   -0.021442\n",
       "Marstat    -0.023346\n",
       "Freqpaid   -0.042358\n",
       "Curradd    -0.044617\n",
       "Age        -0.064684\n",
       "Curremp    -0.089468\n",
       "Open       -0.113929\n",
       "Censore    -0.144338\n",
       "Name: Censor, dtype: float64"
      ]
     },
     "execution_count": 10,
     "metadata": {},
     "output_type": "execute_result"
    }
   ],
   "source": [
    "corr_matrix = data.corr()\n",
    "corr_matrix[\"Censor\"].sort_values(ascending=False)"
   ]
  },
  {
   "cell_type": "code",
   "execution_count": 11,
   "metadata": {},
   "outputs": [],
   "source": [
    "from sklearn.model_selection import train_test_split\n",
    "train_set, test_set = train_test_split(data, test_size =0.2)"
   ]
  },
  {
   "cell_type": "code",
   "execution_count": 16,
   "metadata": {},
   "outputs": [
    {
     "data": {
      "text/html": [
       "<div>\n",
       "<style scoped>\n",
       "    .dataframe tbody tr th:only-of-type {\n",
       "        vertical-align: middle;\n",
       "    }\n",
       "\n",
       "    .dataframe tbody tr th {\n",
       "        vertical-align: top;\n",
       "    }\n",
       "\n",
       "    .dataframe thead th {\n",
       "        text-align: right;\n",
       "    }\n",
       "</style>\n",
       "<table border=\"1\" class=\"dataframe\">\n",
       "  <thead>\n",
       "    <tr style=\"text-align: right;\">\n",
       "      <th></th>\n",
       "      <th>Open</th>\n",
       "      <th>Age</th>\n",
       "      <th>Amount</th>\n",
       "      <th>Curradd</th>\n",
       "      <th>Curremp</th>\n",
       "      <th>Depchild</th>\n",
       "      <th>Insprem</th>\n",
       "      <th>Term</th>\n",
       "    </tr>\n",
       "  </thead>\n",
       "  <tbody>\n",
       "    <tr>\n",
       "      <td>16880</td>\n",
       "      <td>4.0</td>\n",
       "      <td>29.0</td>\n",
       "      <td>1000.0</td>\n",
       "      <td>4.8</td>\n",
       "      <td>3.3</td>\n",
       "      <td>0.0</td>\n",
       "      <td>88.0</td>\n",
       "      <td>12.0</td>\n",
       "    </tr>\n",
       "    <tr>\n",
       "      <td>8142</td>\n",
       "      <td>12.0</td>\n",
       "      <td>27.0</td>\n",
       "      <td>1000.0</td>\n",
       "      <td>15.4</td>\n",
       "      <td>10.4</td>\n",
       "      <td>0.0</td>\n",
       "      <td>0.0</td>\n",
       "      <td>12.0</td>\n",
       "    </tr>\n",
       "    <tr>\n",
       "      <td>19551</td>\n",
       "      <td>4.0</td>\n",
       "      <td>24.0</td>\n",
       "      <td>1500.0</td>\n",
       "      <td>0.3</td>\n",
       "      <td>1.4</td>\n",
       "      <td>0.0</td>\n",
       "      <td>0.0</td>\n",
       "      <td>18.0</td>\n",
       "    </tr>\n",
       "    <tr>\n",
       "      <td>13130</td>\n",
       "      <td>24.0</td>\n",
       "      <td>25.0</td>\n",
       "      <td>1000.0</td>\n",
       "      <td>23.7</td>\n",
       "      <td>1.3</td>\n",
       "      <td>0.0</td>\n",
       "      <td>115.0</td>\n",
       "      <td>24.0</td>\n",
       "    </tr>\n",
       "    <tr>\n",
       "      <td>13021</td>\n",
       "      <td>9.0</td>\n",
       "      <td>30.0</td>\n",
       "      <td>2000.0</td>\n",
       "      <td>1.1</td>\n",
       "      <td>7.0</td>\n",
       "      <td>0.0</td>\n",
       "      <td>0.0</td>\n",
       "      <td>24.0</td>\n",
       "    </tr>\n",
       "  </tbody>\n",
       "</table>\n",
       "</div>"
      ],
      "text/plain": [
       "       Open   Age  Amount  Curradd  Curremp  Depchild  Insprem  Term\n",
       "16880   4.0  29.0  1000.0      4.8      3.3       0.0     88.0  12.0\n",
       "8142   12.0  27.0  1000.0     15.4     10.4       0.0      0.0  12.0\n",
       "19551   4.0  24.0  1500.0      0.3      1.4       0.0      0.0  18.0\n",
       "13130  24.0  25.0  1000.0     23.7      1.3       0.0    115.0  24.0\n",
       "13021   9.0  30.0  2000.0      1.1      7.0       0.0      0.0  24.0"
      ]
     },
     "execution_count": 16,
     "metadata": {},
     "output_type": "execute_result"
    }
   ],
   "source": [
    "csdata= train_set.drop(\"Censor\", axis =1)\n",
    "cs_labels = train_set[\"Censor\"].copy()\n",
    "cs_cat = csdata[[\"Custgend\",\"Freqpaid\",\"Homephon\",\"Loantype\",\"Marstat\",\"Homeowns\",\"Purpose\",\"Censore\"]]\n",
    "cs_numerical = csdata.drop(columns =cs_cat)\n",
    "cs_numerical.head()\n"
   ]
  },
  {
   "cell_type": "code",
   "execution_count": 43,
   "metadata": {},
   "outputs": [],
   "source": [
    "cs_test_data = test_set.drop(\"Censor\", axis =1)\n",
    "cs_test_labels = test_set[\"Censor\"].copy()\n",
    "cs_test_cat = cs_test_data[[\"Custgend\",\"Freqpaid\",\"Homephon\",\"Loantype\",\"Marstat\",\"Homeowns\",\"Purpose\",\"Censore\"]]\n",
    "cs_numerical = cs_test_data.drop(columns =cs_test_cat)"
   ]
  },
  {
   "cell_type": "code",
   "execution_count": 17,
   "metadata": {},
   "outputs": [
    {
     "data": {
      "text/plain": [
       "False"
      ]
     },
     "execution_count": 17,
     "metadata": {},
     "output_type": "execute_result"
    }
   ],
   "source": [
    "csdata.isnull().values.any() #no missing values"
   ]
  },
  {
   "cell_type": "code",
   "execution_count": 21,
   "metadata": {},
   "outputs": [],
   "source": [
    "#numerical pipeline\n",
    "from sklearn.pipeline import Pipeline\n",
    "from sklearn.impute import SimpleImputer\n",
    "from sklearn.preprocessing import MinMaxScaler\n",
    "\n",
    "\n",
    "num_pipeline = Pipeline([\n",
    "    ('imputer', SimpleImputer(strategy = \"median\")),\n",
    "    ('mm_scaler', MinMaxScaler()),\n",
    "])\n",
    "\n",
    "\n",
    "\n"
   ]
  },
  {
   "cell_type": "code",
   "execution_count": 33,
   "metadata": {},
   "outputs": [],
   "source": [
    "#full pipeline\n",
    "from sklearn.compose import ColumnTransformer\n",
    "from sklearn.preprocessing import OneHotEncoder\n",
    "\n",
    "num_attribs = list(cs_numerical)\n",
    "cat_attribs = list(cs_cat)\n",
    "\n",
    "full_pipeline = ColumnTransformer([\n",
    "             (\"num\", num_pipeline, num_attribs),\n",
    "             (\"cat\", OneHotEncoder(categories='auto'), cat_attribs),\n",
    "         ])\n",
    "cs_prepared = full_pipeline.fit_transform(csdata)"
   ]
  },
  {
   "cell_type": "code",
   "execution_count": 44,
   "metadata": {},
   "outputs": [],
   "source": [
    "cs_test_prepared = full_pipeline.fit_transform(cs_test_data)"
   ]
  },
  {
   "cell_type": "code",
   "execution_count": 46,
   "metadata": {
    "scrolled": false
   },
   "outputs": [
    {
     "name": "stderr",
     "output_type": "stream",
     "text": [
      "/Users/linusmohr/anaconda3/envs/tensorflow_env/lib/python3.7/site-packages/sklearn/linear_model/logistic.py:947: ConvergenceWarning: lbfgs failed to converge. Increase the number of iterations.\n",
      "  \"of iterations.\", ConvergenceWarning)\n"
     ]
    },
    {
     "data": {
      "text/plain": [
       "0.9635416666666666"
      ]
     },
     "execution_count": 46,
     "metadata": {},
     "output_type": "execute_result"
    }
   ],
   "source": [
    "#Logistic Regression\n",
    "from sklearn.linear_model import LogisticRegression\n",
    "\n",
    "y = cs_labels.astype(np.int)\n",
    "X= cs_prepared\n",
    "\n",
    "log_reg = LogisticRegression(solver = 'lbfgs')\n",
    "log_reg.fit(X,y)\n",
    "log_reg.predict(X)\n",
    "log_reg.predict_proba(X)\n",
    "log_reg.score(X,y)"
   ]
  },
  {
   "cell_type": "code",
   "execution_count": 47,
   "metadata": {},
   "outputs": [
    {
     "data": {
      "text/plain": [
       "0.9635"
      ]
     },
     "execution_count": 47,
     "metadata": {},
     "output_type": "execute_result"
    }
   ],
   "source": [
    "yt = cs_test_labels.astype(np.int)\n",
    "Xt = cs_test_prepared\n",
    "\n",
    "log_reg.score(Xt,yt)"
   ]
  },
  {
   "cell_type": "code",
   "execution_count": 65,
   "metadata": {
    "scrolled": true
   },
   "outputs": [
    {
     "data": {
      "text/plain": [
       "0.3390264491553153"
      ]
     },
     "execution_count": 65,
     "metadata": {},
     "output_type": "execute_result"
    }
   ],
   "source": [
    "#Gradient Boosting\n",
    "from sklearn.ensemble import GradientBoostingRegressor\n",
    "from sklearn.metrics import accuracy_score\n",
    "gbrt = GradientBoostingRegressor(max_depth=3, n_estimators = 10, learning_rate=1)\n",
    "gbrt.fit(X, y)\n",
    "gbrt.score(X,y)\n",
    "\n"
   ]
  },
  {
   "cell_type": "code",
   "execution_count": null,
   "metadata": {},
   "outputs": [],
   "source": []
  }
 ],
 "metadata": {
  "kernelspec": {
   "display_name": "Python 2",
   "language": "python",
   "name": "python2"
  },
  "language_info": {
   "codemirror_mode": {
    "name": "ipython",
    "version": 2
   },
   "file_extension": ".py",
   "mimetype": "text/x-python",
   "name": "python",
   "nbconvert_exporter": "python",
   "pygments_lexer": "ipython2",
   "version": "2.7.16"
  }
 },
 "nbformat": 4,
 "nbformat_minor": 2
}
